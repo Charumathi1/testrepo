{
 "cells": [
  {
   "cell_type": "markdown",
   "id": "678e638d-e5fd-4119-92a4-490c97c038ea",
   "metadata": {},
   "source": [
    "__My Jupyter Notebook on IBM Watson Studio__"
   ]
  },
  {
   "cell_type": "markdown",
   "id": "589e1208-7e50-42e3-8ff4-534a32970ad0",
   "metadata": {},
   "source": [
    "__Ramagiri Charumathi__<br>_Student_\n",
    "\n"
   ]
  },
  {
   "cell_type": "markdown",
   "id": "422e67a2-7335-4426-b5f5-9de779989e23",
   "metadata": {},
   "source": [
    "_I am interested in Data Science because I world love to contribute towards affordable and quality healthcare in the future_"
   ]
  },
  {
   "cell_type": "markdown",
   "id": "24c6a802-0452-4cbb-bdf2-dd0a8acf5ea4",
   "metadata": {},
   "source": [
    "<h3>The below code should print 'Hello World'<h3>"
   ]
  },
  {
   "cell_type": "code",
   "execution_count": 2,
   "id": "7689fb14-9f16-4f1b-9946-e94ac33d5390",
   "metadata": {},
   "outputs": [
    {
     "name": "stdout",
     "output_type": "stream",
     "text": [
      "Hello World!\n"
     ]
    }
   ],
   "source": [
    "print(\"Hello World!\")"
   ]
  },
  {
   "cell_type": "markdown",
   "id": "022df104-6474-4903-a52d-716a707ffe9c",
   "metadata": {},
   "source": [
    "<html>\n",
    "    <body>\n",
    "        <h1>The ul elements</h1>\n",
    "        <ul>\n",
    "            <li>Coffee</li>\n",
    "            <li>Tea</li>\n",
    "            <li>Milk</li>\n",
    "        </ul>\n",
    "    </body>\n",
    "    </html>\n",
    "    <ol>\n",
    "    <li>Coffee</li>\n",
    "    <li>Tea</li>\n",
    "    <li>Milk</li>\n",
    "    <img src=\"pic_trulli.jpg\" alt=\"Trulli\" width=\"500\"height=\"333\"\n",
    "            "
   ]
  }
 ],
 "metadata": {
  "kernelspec": {
   "display_name": "Python",
   "language": "python",
   "name": "conda-env-python-py"
  },
  "language_info": {
   "codemirror_mode": {
    "name": "ipython",
    "version": 3
   },
   "file_extension": ".py",
   "mimetype": "text/x-python",
   "name": "python",
   "nbconvert_exporter": "python",
   "pygments_lexer": "ipython3",
   "version": "3.7.12"
  }
 },
 "nbformat": 4,
 "nbformat_minor": 5
}
